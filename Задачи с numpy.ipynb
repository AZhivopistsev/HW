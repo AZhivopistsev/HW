{
 "cells": [
  {
   "cell_type": "code",
   "execution_count": 6,
   "metadata": {},
   "outputs": [
    {
     "name": "stdout",
     "output_type": "stream",
     "text": [
      "[0. 0. 0. 0. 1. 0. 0. 0. 0. 0.]\n"
     ]
    }
   ],
   "source": [
    "import numpy as np\n",
    "a = np.zeros(10)\n",
    "a[4] = 1\n",
    "print(a)"
   ]
  },
  {
   "cell_type": "code",
   "execution_count": 10,
   "metadata": {},
   "outputs": [
    {
     "name": "stdout",
     "output_type": "stream",
     "text": [
      "[5. 0. 0. 0. 1. 0. 0. 0. 0. 2.]\n"
     ]
    }
   ],
   "source": [
    "a[0] = 2\n",
    "a[9] = 5\n",
    "c = a[0]\n",
    "a[0] = a[len(a) - 1]\n",
    "a[len(a) - 1] = c\n",
    "print(a)"
   ]
  },
  {
   "cell_type": "code",
   "execution_count": 16,
   "metadata": {},
   "outputs": [
    {
     "name": "stdout",
     "output_type": "stream",
     "text": [
      "[[0 1 2]\n",
      " [3 4 5]\n",
      " [6 7 8]]\n"
     ]
    }
   ],
   "source": [
    "m = np.arange(9)\n",
    "m = m.reshape(3,3)\n",
    "print(m)"
   ]
  },
  {
   "cell_type": "code",
   "execution_count": 44,
   "metadata": {},
   "outputs": [
    {
     "name": "stdout",
     "output_type": "stream",
     "text": [
      "[[0.18355683 0.88954943]\n",
      " [0.62559081 0.87817362]\n",
      " [0.57921109 0.29405719]\n",
      " [0.03441759 0.20926723]\n",
      " [0.86740317 0.51854432]\n",
      " [0.6257062  0.45544119]\n",
      " [0.15864762 0.50624454]\n",
      " [0.87271337 0.62682302]\n",
      " [0.91892255 0.41662385]\n",
      " [0.43206943 0.62941374]]\n",
      "[0.82499129 1.16255277 0.42195511 0.04497734 1.02127648 0.59893492\n",
      " 0.2814526  1.15453573 1.01799408 0.58284565]\n",
      "[1.36730435 0.95181177 0.46977725 1.40778846 0.53880938 0.62919562\n",
      " 1.26710867 0.62286703 0.42566366 0.9692133 ]\n"
     ]
    }
   ],
   "source": [
    "k = np.random.random((10,2))\n",
    "print(k)\n",
    "r = k[:,0]*k[:,0] + k[:,1]*k[:,1]\n",
    "f = np.arctan(k[:,1]/k[:,0])\n",
    "print(r)\n",
    "print(f)\n"
   ]
  },
  {
   "cell_type": "code",
   "execution_count": null,
   "metadata": {},
   "outputs": [],
   "source": []
  }
 ],
 "metadata": {
  "kernelspec": {
   "display_name": "Python 3",
   "language": "python",
   "name": "python3"
  },
  "language_info": {
   "codemirror_mode": {
    "name": "ipython",
    "version": 3
   },
   "file_extension": ".py",
   "mimetype": "text/x-python",
   "name": "python",
   "nbconvert_exporter": "python",
   "pygments_lexer": "ipython3",
   "version": "3.7.1"
  }
 },
 "nbformat": 4,
 "nbformat_minor": 2
}
