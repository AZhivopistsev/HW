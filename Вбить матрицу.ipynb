{
 "cells": [
  {
   "cell_type": "code",
   "execution_count": 69,
   "metadata": {},
   "outputs": [
    {
     "name": "stdout",
     "output_type": "stream",
     "text": [
      "b1\n",
      "c2\n",
      "r3\n",
      "a4\n",
      "b5\n",
      "c6\n",
      "r7\n",
      "a8\n",
      "b9\n",
      "r10\n",
      "[[ 1.  2.  0.  3.]\n",
      " [ 4.  5.  6.  7.]\n",
      " [ 0.  8.  9. 10.]]\n",
      "0.19999999999999973\n",
      "1.4000000000000001\n",
      "-0.13333333333333336\n"
     ]
    }
   ],
   "source": [
    "def function(n):\n",
    "    import numpy as np\n",
    "    mas = np.zeros((n,n+1))\n",
    "    for i in range(n):\n",
    "        if(i != 0):\n",
    "            mas[i,i-1] = int(input(\"a\"))\n",
    "        mas[i,i] = int(input(\"b\"))\n",
    "        if(i != n-1):\n",
    "            mas[i,i+1] = int(input(\"c\"))\n",
    "        mas[i,n] = int(input(\"r\"))\n",
    "    print(mas)    \n",
    "    for i in range(n - 1):\n",
    "        mas[i+1, 0:] = mas[i+1, 0:] - mas[i,0:]/mas[i,i]*mas[i+1,i]\n",
    "    \n",
    "    for j in range(n-1, 0, -1):\n",
    "        mas[j-1,0:] = mas[j-1,0:] - mas[j,0:]*mas[j-1,j]/mas[j,j]\n",
    "    for x in range(n):\n",
    "        print(mas[x,n]/mas[x,x])\n",
    "    \n",
    "    \n",
    "function(3)"
   ]
  },
  {
   "cell_type": "code",
   "execution_count": null,
   "metadata": {},
   "outputs": [],
   "source": []
  },
  {
   "cell_type": "code",
   "execution_count": null,
   "metadata": {},
   "outputs": [],
   "source": []
  }
 ],
 "metadata": {
  "kernelspec": {
   "display_name": "Python 3",
   "language": "python",
   "name": "python3"
  },
  "language_info": {
   "codemirror_mode": {
    "name": "ipython",
    "version": 3
   },
   "file_extension": ".py",
   "mimetype": "text/x-python",
   "name": "python",
   "nbconvert_exporter": "python",
   "pygments_lexer": "ipython3",
   "version": "3.7.1"
  }
 },
 "nbformat": 4,
 "nbformat_minor": 2
}
