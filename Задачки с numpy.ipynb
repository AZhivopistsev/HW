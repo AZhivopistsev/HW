{
 "cells": [
  {
   "cell_type": "code",
   "execution_count": 1,
   "metadata": {},
   "outputs": [
    {
     "name": "stdout",
     "output_type": "stream",
     "text": [
      "[0. 0. 0. 0. 1. 0. 0. 0. 0. 0.]\n"
     ]
    }
   ],
   "source": [
    "import numpy as np\n",
    "a = np.zeros(10)\n",
    "a[4] = 1\n",
    "print(a)"
   ]
  },
  {
   "cell_type": "code",
   "execution_count": 2,
   "metadata": {},
   "outputs": [
    {
     "name": "stdout",
     "output_type": "stream",
     "text": [
      "[5. 0. 0. 0. 1. 0. 0. 0. 0. 2.]\n"
     ]
    }
   ],
   "source": [
    "a[0] = 2\n",
    "a[9] = 5\n",
    "c = a[0]\n",
    "a[0] = a[len(a) - 1]\n",
    "a[len(a) - 1] = c\n",
    "print(a)"
   ]
  },
  {
   "cell_type": "code",
   "execution_count": 3,
   "metadata": {},
   "outputs": [
    {
     "name": "stdout",
     "output_type": "stream",
     "text": [
      "[[0 1 2]\n",
      " [3 4 5]\n",
      " [6 7 8]]\n"
     ]
    }
   ],
   "source": [
    "m = np.arange(9)\n",
    "m = m.reshape(3,3)\n",
    "print(m)"
   ]
  },
  {
   "cell_type": "code",
   "execution_count": 4,
   "metadata": {},
   "outputs": [
    {
     "name": "stdout",
     "output_type": "stream",
     "text": [
      "[[0 1 0 1 0 1 0 1]\n",
      " [1 0 1 0 1 0 1 0]\n",
      " [0 1 0 1 0 1 0 1]\n",
      " [1 0 1 0 1 0 1 0]\n",
      " [0 1 0 1 0 1 0 1]\n",
      " [1 0 1 0 1 0 1 0]\n",
      " [0 1 0 1 0 1 0 1]\n",
      " [1 0 1 0 1 0 1 0]]\n"
     ]
    }
   ],
   "source": [
    "n = np.arange(64)\n",
    "n = n.reshape(8,8)\n",
    "for i in range(8):\n",
    "    for j in range(8):\n",
    "        n[i,j] = (i + j)%2\n",
    "print(n)"
   ]
  },
  {
   "cell_type": "code",
   "execution_count": 6,
   "metadata": {},
   "outputs": [
    {
     "name": "stdout",
     "output_type": "stream",
     "text": [
      "[[0.70444551 0.98040053]\n",
      " [0.83660519 0.99329385]\n",
      " [0.3788338  0.71218372]\n",
      " [0.59229369 0.71059354]\n",
      " [0.99044052 0.56730084]\n",
      " [0.54130944 0.00919355]\n",
      " [0.64669687 0.09984206]\n",
      " [0.94624895 0.16408777]\n",
      " [0.44827431 0.94442669]\n",
      " [0.74376593 0.74478705]]\n",
      "[1.20724011 1.2986689  0.80667261 0.92507026 1.14140381 0.54138751\n",
      " 0.65435868 0.9603707  1.04541457 1.05256615]\n",
      "[0.94774321 0.87081675 1.08193011 0.8759481  0.52016149 0.01698227\n",
      " 0.15317834 0.1717012  1.12763171 0.78608414]\n"
     ]
    }
   ],
   "source": [
    "\n",
    "k = np.random.random((10,2))\n",
    "print(k)\n",
    "r = ( k[:,0]*k[:,0] + k[:,1]*k[:,1])**0.5\n",
    "f = np.arctan(k[:,1]/k[:,0])\n",
    "print(r)\n",
    "print(f)"
   ]
  },
  {
   "cell_type": "code",
   "execution_count": null,
   "metadata": {},
   "outputs": [],
   "source": []
  }
 ],
 "metadata": {
  "kernelspec": {
   "display_name": "Python 3",
   "language": "python",
   "name": "python3"
  },
  "language_info": {
   "codemirror_mode": {
    "name": "ipython",
    "version": 3
   },
   "file_extension": ".py",
   "mimetype": "text/x-python",
   "name": "python",
   "nbconvert_exporter": "python",
   "pygments_lexer": "ipython3",
   "version": "3.7.1"
  }
 },
 "nbformat": 4,
 "nbformat_minor": 2
}
